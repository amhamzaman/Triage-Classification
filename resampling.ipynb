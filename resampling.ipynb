{
 "cells": [
  {
   "cell_type": "markdown",
   "metadata": {},
   "source": [
    "#### Importing Libraries"
   ]
  },
  {
   "cell_type": "code",
   "execution_count": 174,
   "metadata": {},
   "outputs": [],
   "source": [
    "import numpy as np\n",
    "import pandas as pd\n",
    "import matplotlib.pyplot as plt\n",
    "import seaborn as sns\n",
    "from imblearn.over_sampling import SMOTE\n",
    "import joblib\n",
    "import pickle"
   ]
  },
  {
   "cell_type": "markdown",
   "metadata": {},
   "source": [
    "#### Reading & Cleaning the Data"
   ]
  },
  {
   "cell_type": "code",
   "execution_count": 175,
   "metadata": {},
   "outputs": [],
   "source": [
    "data = pd.read_csv('./data/triage_classification.csv')\n",
    "data['gender'] = pd.Series(['M' if val==1 else 'F' for val in data['gender']])\n",
    "data.rename(columns= {'Unnamed: 0' : 'ID'}, inplace=True)\n",
    "data['ID'] = pd.Series([val+1 for val in range(len(data['ID']))])\n",
    "data['exercise angina'] = pd.Series(['Yes' if val==1 else 'No' for val in data['exercise angina']])\n",
    "data['hypertension'] = pd.Series(['Yes' if val==1 else 'No' for val in data['hypertension']])\n",
    "data['heart_disease'] = pd.Series(['Yes' if val==1 else 'No' for val in data['heart_disease']])\n",
    "data['chest pain type'] = pd.Series([str(int(val)) for val in data['chest pain type']])\n",
    "data = data.drop('ID', axis=1)"
   ]
  },
  {
   "cell_type": "markdown",
   "metadata": {},
   "source": [
    "#### Preparing Data for Learning"
   ]
  },
  {
   "cell_type": "code",
   "execution_count": 176,
   "metadata": {},
   "outputs": [
    {
     "data": {
      "text/html": [
       "<div>\n",
       "<style scoped>\n",
       "    .dataframe tbody tr th:only-of-type {\n",
       "        vertical-align: middle;\n",
       "    }\n",
       "\n",
       "    .dataframe tbody tr th {\n",
       "        vertical-align: top;\n",
       "    }\n",
       "\n",
       "    .dataframe thead th {\n",
       "        text-align: right;\n",
       "    }\n",
       "</style>\n",
       "<table border=\"1\" class=\"dataframe\">\n",
       "  <thead>\n",
       "    <tr style=\"text-align: right;\">\n",
       "      <th></th>\n",
       "      <th>age</th>\n",
       "      <th>blood pressure</th>\n",
       "      <th>cholesterol</th>\n",
       "      <th>max heart rate</th>\n",
       "      <th>plasma glucose</th>\n",
       "      <th>skin_thickness</th>\n",
       "      <th>insulin</th>\n",
       "      <th>bmi</th>\n",
       "      <th>diabetes_pedigree</th>\n",
       "      <th>gender_F</th>\n",
       "      <th>...</th>\n",
       "      <th>hypertension_No</th>\n",
       "      <th>hypertension_Yes</th>\n",
       "      <th>heart_disease_No</th>\n",
       "      <th>heart_disease_Yes</th>\n",
       "      <th>Residence_type_Rural</th>\n",
       "      <th>Residence_type_Urban</th>\n",
       "      <th>smoking_status_Unknown</th>\n",
       "      <th>smoking_status_formerly smoked</th>\n",
       "      <th>smoking_status_never smoked</th>\n",
       "      <th>smoking_status_smokes</th>\n",
       "    </tr>\n",
       "  </thead>\n",
       "  <tbody>\n",
       "    <tr>\n",
       "      <th>0</th>\n",
       "      <td>40.0</td>\n",
       "      <td>140.0</td>\n",
       "      <td>294.0</td>\n",
       "      <td>172.0</td>\n",
       "      <td>110.0</td>\n",
       "      <td>44.0</td>\n",
       "      <td>105.0</td>\n",
       "      <td>22.0</td>\n",
       "      <td>0.467386</td>\n",
       "      <td>0</td>\n",
       "      <td>...</td>\n",
       "      <td>1</td>\n",
       "      <td>0</td>\n",
       "      <td>1</td>\n",
       "      <td>0</td>\n",
       "      <td>0</td>\n",
       "      <td>1</td>\n",
       "      <td>0</td>\n",
       "      <td>0</td>\n",
       "      <td>1</td>\n",
       "      <td>0</td>\n",
       "    </tr>\n",
       "    <tr>\n",
       "      <th>1</th>\n",
       "      <td>49.0</td>\n",
       "      <td>160.0</td>\n",
       "      <td>180.0</td>\n",
       "      <td>156.0</td>\n",
       "      <td>107.0</td>\n",
       "      <td>40.0</td>\n",
       "      <td>115.0</td>\n",
       "      <td>18.0</td>\n",
       "      <td>0.467386</td>\n",
       "      <td>1</td>\n",
       "      <td>...</td>\n",
       "      <td>1</td>\n",
       "      <td>0</td>\n",
       "      <td>1</td>\n",
       "      <td>0</td>\n",
       "      <td>0</td>\n",
       "      <td>1</td>\n",
       "      <td>0</td>\n",
       "      <td>0</td>\n",
       "      <td>1</td>\n",
       "      <td>0</td>\n",
       "    </tr>\n",
       "    <tr>\n",
       "      <th>2</th>\n",
       "      <td>37.0</td>\n",
       "      <td>130.0</td>\n",
       "      <td>294.0</td>\n",
       "      <td>156.0</td>\n",
       "      <td>95.0</td>\n",
       "      <td>25.0</td>\n",
       "      <td>131.0</td>\n",
       "      <td>18.0</td>\n",
       "      <td>0.467386</td>\n",
       "      <td>0</td>\n",
       "      <td>...</td>\n",
       "      <td>1</td>\n",
       "      <td>0</td>\n",
       "      <td>1</td>\n",
       "      <td>0</td>\n",
       "      <td>0</td>\n",
       "      <td>1</td>\n",
       "      <td>0</td>\n",
       "      <td>0</td>\n",
       "      <td>1</td>\n",
       "      <td>0</td>\n",
       "    </tr>\n",
       "    <tr>\n",
       "      <th>3</th>\n",
       "      <td>48.0</td>\n",
       "      <td>138.0</td>\n",
       "      <td>214.0</td>\n",
       "      <td>156.0</td>\n",
       "      <td>114.0</td>\n",
       "      <td>88.0</td>\n",
       "      <td>139.0</td>\n",
       "      <td>21.0</td>\n",
       "      <td>0.467386</td>\n",
       "      <td>1</td>\n",
       "      <td>...</td>\n",
       "      <td>1</td>\n",
       "      <td>0</td>\n",
       "      <td>1</td>\n",
       "      <td>0</td>\n",
       "      <td>0</td>\n",
       "      <td>1</td>\n",
       "      <td>0</td>\n",
       "      <td>0</td>\n",
       "      <td>1</td>\n",
       "      <td>0</td>\n",
       "    </tr>\n",
       "    <tr>\n",
       "      <th>4</th>\n",
       "      <td>54.0</td>\n",
       "      <td>150.0</td>\n",
       "      <td>195.0</td>\n",
       "      <td>156.0</td>\n",
       "      <td>86.0</td>\n",
       "      <td>39.0</td>\n",
       "      <td>104.0</td>\n",
       "      <td>18.0</td>\n",
       "      <td>0.467386</td>\n",
       "      <td>0</td>\n",
       "      <td>...</td>\n",
       "      <td>1</td>\n",
       "      <td>0</td>\n",
       "      <td>1</td>\n",
       "      <td>0</td>\n",
       "      <td>0</td>\n",
       "      <td>1</td>\n",
       "      <td>0</td>\n",
       "      <td>0</td>\n",
       "      <td>1</td>\n",
       "      <td>0</td>\n",
       "    </tr>\n",
       "  </tbody>\n",
       "</table>\n",
       "<p>5 rows × 28 columns</p>\n",
       "</div>"
      ],
      "text/plain": [
       "    age  blood pressure  cholesterol  max heart rate  plasma glucose  \\\n",
       "0  40.0           140.0        294.0           172.0           110.0   \n",
       "1  49.0           160.0        180.0           156.0           107.0   \n",
       "2  37.0           130.0        294.0           156.0            95.0   \n",
       "3  48.0           138.0        214.0           156.0           114.0   \n",
       "4  54.0           150.0        195.0           156.0            86.0   \n",
       "\n",
       "   skin_thickness  insulin   bmi  diabetes_pedigree  gender_F  ...  \\\n",
       "0            44.0    105.0  22.0           0.467386         0  ...   \n",
       "1            40.0    115.0  18.0           0.467386         1  ...   \n",
       "2            25.0    131.0  18.0           0.467386         0  ...   \n",
       "3            88.0    139.0  21.0           0.467386         1  ...   \n",
       "4            39.0    104.0  18.0           0.467386         0  ...   \n",
       "\n",
       "   hypertension_No  hypertension_Yes  heart_disease_No  heart_disease_Yes  \\\n",
       "0                1                 0                 1                  0   \n",
       "1                1                 0                 1                  0   \n",
       "2                1                 0                 1                  0   \n",
       "3                1                 0                 1                  0   \n",
       "4                1                 0                 1                  0   \n",
       "\n",
       "   Residence_type_Rural  Residence_type_Urban  smoking_status_Unknown  \\\n",
       "0                     0                     1                       0   \n",
       "1                     0                     1                       0   \n",
       "2                     0                     1                       0   \n",
       "3                     0                     1                       0   \n",
       "4                     0                     1                       0   \n",
       "\n",
       "   smoking_status_formerly smoked  smoking_status_never smoked  \\\n",
       "0                               0                            1   \n",
       "1                               0                            1   \n",
       "2                               0                            1   \n",
       "3                               0                            1   \n",
       "4                               0                            1   \n",
       "\n",
       "   smoking_status_smokes  \n",
       "0                      0  \n",
       "1                      0  \n",
       "2                      0  \n",
       "3                      0  \n",
       "4                      0  \n",
       "\n",
       "[5 rows x 28 columns]"
      ]
     },
     "execution_count": 176,
     "metadata": {},
     "output_type": "execute_result"
    }
   ],
   "source": [
    "df = data.copy()\n",
    "y = df.pop('triage')\n",
    "X = pd.get_dummies(df)\n",
    "X.head()"
   ]
  },
  {
   "cell_type": "markdown",
   "metadata": {},
   "source": [
    "#### Oversampling Unbalanced Classes"
   ]
  },
  {
   "cell_type": "code",
   "execution_count": 177,
   "metadata": {},
   "outputs": [],
   "source": [
    "val_X = X.copy()\n",
    "val_Y = y.copy()\n",
    "\n",
    "oversample = SMOTE()\n",
    "X, y = oversample.fit_resample(X,y)\n"
   ]
  },
  {
   "cell_type": "code",
   "execution_count": 153,
   "metadata": {},
   "outputs": [
    {
     "name": "stdout",
     "output_type": "stream",
     "text": [
      "yellow    5631\n",
      "green      440\n",
      "blue       422\n",
      "orange     339\n",
      "red        129\n",
      "Name: triage, dtype: int64\n",
      "yellow    5631\n",
      "orange    5631\n",
      "red       5631\n",
      "blue      5631\n",
      "green     5631\n",
      "Name: triage, dtype: int64\n"
     ]
    }
   ],
   "source": [
    "X.shape\n",
    "print(val_Y.value_counts())\n",
    "print(y.value_counts())"
   ]
  },
  {
   "cell_type": "markdown",
   "metadata": {},
   "source": [
    "#### Creating Train-Test-Validation Splits"
   ]
  },
  {
   "cell_type": "code",
   "execution_count": 178,
   "metadata": {},
   "outputs": [],
   "source": [
    "from sklearn.model_selection import train_test_split\n",
    "\n",
    "X_train, X_test, y_train, y_test = train_test_split(X,y, test_size=0.1, random_state=0)\n",
    "\n",
    "_, x_val, _, y_val = train_test_split(val_X, val_Y, test_size=len(val_Y)-1, random_state=0)\n"
   ]
  },
  {
   "cell_type": "code",
   "execution_count": 179,
   "metadata": {},
   "outputs": [
    {
     "name": "stdout",
     "output_type": "stream",
     "text": [
      "(25339, 28)\n",
      "(6960, 28) (6960,)\n"
     ]
    }
   ],
   "source": [
    "print(X_train.shape)\n",
    "print(x_val.shape,y_val.shape)"
   ]
  },
  {
   "cell_type": "code",
   "execution_count": 180,
   "metadata": {},
   "outputs": [
    {
     "data": {
      "text/html": [
       "<div>\n",
       "<style scoped>\n",
       "    .dataframe tbody tr th:only-of-type {\n",
       "        vertical-align: middle;\n",
       "    }\n",
       "\n",
       "    .dataframe tbody tr th {\n",
       "        vertical-align: top;\n",
       "    }\n",
       "\n",
       "    .dataframe thead th {\n",
       "        text-align: right;\n",
       "    }\n",
       "</style>\n",
       "<table border=\"1\" class=\"dataframe\">\n",
       "  <thead>\n",
       "    <tr style=\"text-align: right;\">\n",
       "      <th></th>\n",
       "      <th>age</th>\n",
       "      <th>blood pressure</th>\n",
       "      <th>cholesterol</th>\n",
       "      <th>max heart rate</th>\n",
       "      <th>plasma glucose</th>\n",
       "      <th>skin_thickness</th>\n",
       "      <th>insulin</th>\n",
       "      <th>bmi</th>\n",
       "      <th>diabetes_pedigree</th>\n",
       "      <th>gender_F</th>\n",
       "      <th>...</th>\n",
       "      <th>hypertension_No</th>\n",
       "      <th>hypertension_Yes</th>\n",
       "      <th>heart_disease_No</th>\n",
       "      <th>heart_disease_Yes</th>\n",
       "      <th>Residence_type_Rural</th>\n",
       "      <th>Residence_type_Urban</th>\n",
       "      <th>smoking_status_Unknown</th>\n",
       "      <th>smoking_status_formerly smoked</th>\n",
       "      <th>smoking_status_never smoked</th>\n",
       "      <th>smoking_status_smokes</th>\n",
       "    </tr>\n",
       "  </thead>\n",
       "  <tbody>\n",
       "    <tr>\n",
       "      <th>3162</th>\n",
       "      <td>80.0</td>\n",
       "      <td>98.0</td>\n",
       "      <td>167.0</td>\n",
       "      <td>183.0</td>\n",
       "      <td>63.37</td>\n",
       "      <td>57.0</td>\n",
       "      <td>124.0</td>\n",
       "      <td>26.5</td>\n",
       "      <td>0.467386</td>\n",
       "      <td>1</td>\n",
       "      <td>...</td>\n",
       "      <td>1</td>\n",
       "      <td>0</td>\n",
       "      <td>1</td>\n",
       "      <td>0</td>\n",
       "      <td>0</td>\n",
       "      <td>1</td>\n",
       "      <td>0</td>\n",
       "      <td>0</td>\n",
       "      <td>1</td>\n",
       "      <td>0</td>\n",
       "    </tr>\n",
       "    <tr>\n",
       "      <th>2355</th>\n",
       "      <td>57.0</td>\n",
       "      <td>135.0</td>\n",
       "      <td>192.0</td>\n",
       "      <td>182.0</td>\n",
       "      <td>118.70</td>\n",
       "      <td>31.0</td>\n",
       "      <td>92.0</td>\n",
       "      <td>33.2</td>\n",
       "      <td>0.467386</td>\n",
       "      <td>0</td>\n",
       "      <td>...</td>\n",
       "      <td>1</td>\n",
       "      <td>0</td>\n",
       "      <td>1</td>\n",
       "      <td>0</td>\n",
       "      <td>0</td>\n",
       "      <td>1</td>\n",
       "      <td>1</td>\n",
       "      <td>0</td>\n",
       "      <td>0</td>\n",
       "      <td>0</td>\n",
       "    </tr>\n",
       "    <tr>\n",
       "      <th>5199</th>\n",
       "      <td>80.0</td>\n",
       "      <td>109.0</td>\n",
       "      <td>195.0</td>\n",
       "      <td>138.0</td>\n",
       "      <td>79.25</td>\n",
       "      <td>96.0</td>\n",
       "      <td>132.0</td>\n",
       "      <td>23.6</td>\n",
       "      <td>0.467386</td>\n",
       "      <td>1</td>\n",
       "      <td>...</td>\n",
       "      <td>1</td>\n",
       "      <td>0</td>\n",
       "      <td>1</td>\n",
       "      <td>0</td>\n",
       "      <td>0</td>\n",
       "      <td>1</td>\n",
       "      <td>1</td>\n",
       "      <td>0</td>\n",
       "      <td>0</td>\n",
       "      <td>0</td>\n",
       "    </tr>\n",
       "    <tr>\n",
       "      <th>2265</th>\n",
       "      <td>64.0</td>\n",
       "      <td>114.0</td>\n",
       "      <td>193.0</td>\n",
       "      <td>150.0</td>\n",
       "      <td>147.48</td>\n",
       "      <td>80.0</td>\n",
       "      <td>103.0</td>\n",
       "      <td>40.5</td>\n",
       "      <td>0.467386</td>\n",
       "      <td>1</td>\n",
       "      <td>...</td>\n",
       "      <td>1</td>\n",
       "      <td>0</td>\n",
       "      <td>1</td>\n",
       "      <td>0</td>\n",
       "      <td>0</td>\n",
       "      <td>1</td>\n",
       "      <td>1</td>\n",
       "      <td>0</td>\n",
       "      <td>0</td>\n",
       "      <td>0</td>\n",
       "    </tr>\n",
       "    <tr>\n",
       "      <th>5887</th>\n",
       "      <td>59.0</td>\n",
       "      <td>139.0</td>\n",
       "      <td>198.0</td>\n",
       "      <td>141.0</td>\n",
       "      <td>82.14</td>\n",
       "      <td>50.0</td>\n",
       "      <td>137.0</td>\n",
       "      <td>35.6</td>\n",
       "      <td>0.467386</td>\n",
       "      <td>1</td>\n",
       "      <td>...</td>\n",
       "      <td>1</td>\n",
       "      <td>0</td>\n",
       "      <td>1</td>\n",
       "      <td>0</td>\n",
       "      <td>0</td>\n",
       "      <td>1</td>\n",
       "      <td>0</td>\n",
       "      <td>0</td>\n",
       "      <td>0</td>\n",
       "      <td>1</td>\n",
       "    </tr>\n",
       "  </tbody>\n",
       "</table>\n",
       "<p>5 rows × 28 columns</p>\n",
       "</div>"
      ],
      "text/plain": [
       "       age  blood pressure  cholesterol  max heart rate  plasma glucose  \\\n",
       "3162  80.0            98.0        167.0           183.0           63.37   \n",
       "2355  57.0           135.0        192.0           182.0          118.70   \n",
       "5199  80.0           109.0        195.0           138.0           79.25   \n",
       "2265  64.0           114.0        193.0           150.0          147.48   \n",
       "5887  59.0           139.0        198.0           141.0           82.14   \n",
       "\n",
       "      skin_thickness  insulin   bmi  diabetes_pedigree  gender_F  ...  \\\n",
       "3162            57.0    124.0  26.5           0.467386         1  ...   \n",
       "2355            31.0     92.0  33.2           0.467386         0  ...   \n",
       "5199            96.0    132.0  23.6           0.467386         1  ...   \n",
       "2265            80.0    103.0  40.5           0.467386         1  ...   \n",
       "5887            50.0    137.0  35.6           0.467386         1  ...   \n",
       "\n",
       "      hypertension_No  hypertension_Yes  heart_disease_No  heart_disease_Yes  \\\n",
       "3162                1                 0                 1                  0   \n",
       "2355                1                 0                 1                  0   \n",
       "5199                1                 0                 1                  0   \n",
       "2265                1                 0                 1                  0   \n",
       "5887                1                 0                 1                  0   \n",
       "\n",
       "      Residence_type_Rural  Residence_type_Urban  smoking_status_Unknown  \\\n",
       "3162                     0                     1                       0   \n",
       "2355                     0                     1                       1   \n",
       "5199                     0                     1                       1   \n",
       "2265                     0                     1                       1   \n",
       "5887                     0                     1                       0   \n",
       "\n",
       "      smoking_status_formerly smoked  smoking_status_never smoked  \\\n",
       "3162                               0                            1   \n",
       "2355                               0                            0   \n",
       "5199                               0                            0   \n",
       "2265                               0                            0   \n",
       "5887                               0                            0   \n",
       "\n",
       "      smoking_status_smokes  \n",
       "3162                      0  \n",
       "2355                      0  \n",
       "5199                      0  \n",
       "2265                      0  \n",
       "5887                      1  \n",
       "\n",
       "[5 rows x 28 columns]"
      ]
     },
     "execution_count": 180,
     "metadata": {},
     "output_type": "execute_result"
    }
   ],
   "source": [
    "x_val.head()"
   ]
  },
  {
   "cell_type": "markdown",
   "metadata": {},
   "source": [
    "#### Scaling the Data"
   ]
  },
  {
   "cell_type": "code",
   "execution_count": 156,
   "metadata": {},
   "outputs": [],
   "source": [
    "from sklearn.preprocessing import StandardScaler\n",
    "\n",
    "sc = StandardScaler()\n",
    "X_train = sc.fit_transform(X_train)\n",
    "X_test = sc.transform(X_test)\n",
    "x_val = sc.transform(x_val)"
   ]
  },
  {
   "cell_type": "code",
   "execution_count": 157,
   "metadata": {},
   "outputs": [
    {
     "data": {
      "text/plain": [
       "(25339, 28)"
      ]
     },
     "execution_count": 157,
     "metadata": {},
     "output_type": "execute_result"
    }
   ],
   "source": [
    "X_train.shape"
   ]
  },
  {
   "cell_type": "code",
   "execution_count": 181,
   "metadata": {},
   "outputs": [
    {
     "data": {
      "text/html": [
       "<div>\n",
       "<style scoped>\n",
       "    .dataframe tbody tr th:only-of-type {\n",
       "        vertical-align: middle;\n",
       "    }\n",
       "\n",
       "    .dataframe tbody tr th {\n",
       "        vertical-align: top;\n",
       "    }\n",
       "\n",
       "    .dataframe thead th {\n",
       "        text-align: right;\n",
       "    }\n",
       "</style>\n",
       "<table border=\"1\" class=\"dataframe\">\n",
       "  <thead>\n",
       "    <tr style=\"text-align: right;\">\n",
       "      <th></th>\n",
       "      <th>age</th>\n",
       "      <th>blood pressure</th>\n",
       "      <th>cholesterol</th>\n",
       "      <th>max heart rate</th>\n",
       "      <th>plasma glucose</th>\n",
       "      <th>skin_thickness</th>\n",
       "      <th>insulin</th>\n",
       "      <th>bmi</th>\n",
       "      <th>diabetes_pedigree</th>\n",
       "      <th>gender_F</th>\n",
       "      <th>...</th>\n",
       "      <th>hypertension_No</th>\n",
       "      <th>hypertension_Yes</th>\n",
       "      <th>heart_disease_No</th>\n",
       "      <th>heart_disease_Yes</th>\n",
       "      <th>Residence_type_Rural</th>\n",
       "      <th>Residence_type_Urban</th>\n",
       "      <th>smoking_status_Unknown</th>\n",
       "      <th>smoking_status_formerly smoked</th>\n",
       "      <th>smoking_status_never smoked</th>\n",
       "      <th>smoking_status_smokes</th>\n",
       "    </tr>\n",
       "  </thead>\n",
       "  <tbody>\n",
       "    <tr>\n",
       "      <th>3162</th>\n",
       "      <td>80.0</td>\n",
       "      <td>98.0</td>\n",
       "      <td>167.0</td>\n",
       "      <td>183.0</td>\n",
       "      <td>63.37</td>\n",
       "      <td>57.0</td>\n",
       "      <td>124.0</td>\n",
       "      <td>26.5</td>\n",
       "      <td>0.467386</td>\n",
       "      <td>1</td>\n",
       "      <td>...</td>\n",
       "      <td>1</td>\n",
       "      <td>0</td>\n",
       "      <td>1</td>\n",
       "      <td>0</td>\n",
       "      <td>0</td>\n",
       "      <td>1</td>\n",
       "      <td>0</td>\n",
       "      <td>0</td>\n",
       "      <td>1</td>\n",
       "      <td>0</td>\n",
       "    </tr>\n",
       "    <tr>\n",
       "      <th>2355</th>\n",
       "      <td>57.0</td>\n",
       "      <td>135.0</td>\n",
       "      <td>192.0</td>\n",
       "      <td>182.0</td>\n",
       "      <td>118.70</td>\n",
       "      <td>31.0</td>\n",
       "      <td>92.0</td>\n",
       "      <td>33.2</td>\n",
       "      <td>0.467386</td>\n",
       "      <td>0</td>\n",
       "      <td>...</td>\n",
       "      <td>1</td>\n",
       "      <td>0</td>\n",
       "      <td>1</td>\n",
       "      <td>0</td>\n",
       "      <td>0</td>\n",
       "      <td>1</td>\n",
       "      <td>1</td>\n",
       "      <td>0</td>\n",
       "      <td>0</td>\n",
       "      <td>0</td>\n",
       "    </tr>\n",
       "    <tr>\n",
       "      <th>5199</th>\n",
       "      <td>80.0</td>\n",
       "      <td>109.0</td>\n",
       "      <td>195.0</td>\n",
       "      <td>138.0</td>\n",
       "      <td>79.25</td>\n",
       "      <td>96.0</td>\n",
       "      <td>132.0</td>\n",
       "      <td>23.6</td>\n",
       "      <td>0.467386</td>\n",
       "      <td>1</td>\n",
       "      <td>...</td>\n",
       "      <td>1</td>\n",
       "      <td>0</td>\n",
       "      <td>1</td>\n",
       "      <td>0</td>\n",
       "      <td>0</td>\n",
       "      <td>1</td>\n",
       "      <td>1</td>\n",
       "      <td>0</td>\n",
       "      <td>0</td>\n",
       "      <td>0</td>\n",
       "    </tr>\n",
       "    <tr>\n",
       "      <th>2265</th>\n",
       "      <td>64.0</td>\n",
       "      <td>114.0</td>\n",
       "      <td>193.0</td>\n",
       "      <td>150.0</td>\n",
       "      <td>147.48</td>\n",
       "      <td>80.0</td>\n",
       "      <td>103.0</td>\n",
       "      <td>40.5</td>\n",
       "      <td>0.467386</td>\n",
       "      <td>1</td>\n",
       "      <td>...</td>\n",
       "      <td>1</td>\n",
       "      <td>0</td>\n",
       "      <td>1</td>\n",
       "      <td>0</td>\n",
       "      <td>0</td>\n",
       "      <td>1</td>\n",
       "      <td>1</td>\n",
       "      <td>0</td>\n",
       "      <td>0</td>\n",
       "      <td>0</td>\n",
       "    </tr>\n",
       "    <tr>\n",
       "      <th>5887</th>\n",
       "      <td>59.0</td>\n",
       "      <td>139.0</td>\n",
       "      <td>198.0</td>\n",
       "      <td>141.0</td>\n",
       "      <td>82.14</td>\n",
       "      <td>50.0</td>\n",
       "      <td>137.0</td>\n",
       "      <td>35.6</td>\n",
       "      <td>0.467386</td>\n",
       "      <td>1</td>\n",
       "      <td>...</td>\n",
       "      <td>1</td>\n",
       "      <td>0</td>\n",
       "      <td>1</td>\n",
       "      <td>0</td>\n",
       "      <td>0</td>\n",
       "      <td>1</td>\n",
       "      <td>0</td>\n",
       "      <td>0</td>\n",
       "      <td>0</td>\n",
       "      <td>1</td>\n",
       "    </tr>\n",
       "  </tbody>\n",
       "</table>\n",
       "<p>5 rows × 28 columns</p>\n",
       "</div>"
      ],
      "text/plain": [
       "       age  blood pressure  cholesterol  max heart rate  plasma glucose  \\\n",
       "3162  80.0            98.0        167.0           183.0           63.37   \n",
       "2355  57.0           135.0        192.0           182.0          118.70   \n",
       "5199  80.0           109.0        195.0           138.0           79.25   \n",
       "2265  64.0           114.0        193.0           150.0          147.48   \n",
       "5887  59.0           139.0        198.0           141.0           82.14   \n",
       "\n",
       "      skin_thickness  insulin   bmi  diabetes_pedigree  gender_F  ...  \\\n",
       "3162            57.0    124.0  26.5           0.467386         1  ...   \n",
       "2355            31.0     92.0  33.2           0.467386         0  ...   \n",
       "5199            96.0    132.0  23.6           0.467386         1  ...   \n",
       "2265            80.0    103.0  40.5           0.467386         1  ...   \n",
       "5887            50.0    137.0  35.6           0.467386         1  ...   \n",
       "\n",
       "      hypertension_No  hypertension_Yes  heart_disease_No  heart_disease_Yes  \\\n",
       "3162                1                 0                 1                  0   \n",
       "2355                1                 0                 1                  0   \n",
       "5199                1                 0                 1                  0   \n",
       "2265                1                 0                 1                  0   \n",
       "5887                1                 0                 1                  0   \n",
       "\n",
       "      Residence_type_Rural  Residence_type_Urban  smoking_status_Unknown  \\\n",
       "3162                     0                     1                       0   \n",
       "2355                     0                     1                       1   \n",
       "5199                     0                     1                       1   \n",
       "2265                     0                     1                       1   \n",
       "5887                     0                     1                       0   \n",
       "\n",
       "      smoking_status_formerly smoked  smoking_status_never smoked  \\\n",
       "3162                               0                            1   \n",
       "2355                               0                            0   \n",
       "5199                               0                            0   \n",
       "2265                               0                            0   \n",
       "5887                               0                            0   \n",
       "\n",
       "      smoking_status_smokes  \n",
       "3162                      0  \n",
       "2355                      0  \n",
       "5199                      0  \n",
       "2265                      0  \n",
       "5887                      1  \n",
       "\n",
       "[5 rows x 28 columns]"
      ]
     },
     "execution_count": 181,
     "metadata": {},
     "output_type": "execute_result"
    }
   ],
   "source": [
    "x_val.head()"
   ]
  },
  {
   "cell_type": "code",
   "execution_count": 186,
   "metadata": {},
   "outputs": [],
   "source": [
    "x_val.loc[[1]].to_csv('./out/valset.csv')"
   ]
  },
  {
   "cell_type": "markdown",
   "metadata": {},
   "source": [
    "#### Training a Random Forest Classifier"
   ]
  },
  {
   "cell_type": "code",
   "execution_count": 158,
   "metadata": {},
   "outputs": [],
   "source": [
    "from sklearn.ensemble import RandomForestClassifier\n",
    "\n",
    "classifier = RandomForestClassifier(n_estimators=100, random_state=0)\n",
    "classifier.fit(X_train, y_train)\n",
    "y_pred = classifier.predict(x_val)"
   ]
  },
  {
   "cell_type": "markdown",
   "metadata": {},
   "source": [
    "#### Evaluating Classifier Performance"
   ]
  },
  {
   "cell_type": "code",
   "execution_count": 159,
   "metadata": {},
   "outputs": [
    {
     "name": "stdout",
     "output_type": "stream",
     "text": [
      "[[ 422    0    0    0    0]\n",
      " [   0  439    0    0    0]\n",
      " [   0    0  339    0    0]\n",
      " [   0    0    0  129    0]\n",
      " [   0    0    0    0 5631]]\n",
      "              precision    recall  f1-score   support\n",
      "\n",
      "        blue       1.00      1.00      1.00       422\n",
      "       green       1.00      1.00      1.00       439\n",
      "      orange       1.00      1.00      1.00       339\n",
      "         red       1.00      1.00      1.00       129\n",
      "      yellow       1.00      1.00      1.00      5631\n",
      "\n",
      "    accuracy                           1.00      6960\n",
      "   macro avg       1.00      1.00      1.00      6960\n",
      "weighted avg       1.00      1.00      1.00      6960\n",
      "\n",
      "1.0\n"
     ]
    }
   ],
   "source": [
    "from sklearn.metrics import classification_report, confusion_matrix, accuracy_score\n",
    "\n",
    "print(confusion_matrix(y_val,y_pred))\n",
    "print(classification_report(y_val,y_pred))\n",
    "print(accuracy_score(y_val, y_pred))"
   ]
  },
  {
   "cell_type": "code",
   "execution_count": 160,
   "metadata": {},
   "outputs": [
    {
     "data": {
      "text/plain": [
       "['./out/scale.joblib']"
      ]
     },
     "execution_count": 160,
     "metadata": {},
     "output_type": "execute_result"
    }
   ],
   "source": [
    "joblib.dump(classifier, './out/model.joblib')\n",
    "joblib.dump(sc, './out/scale.joblib')"
   ]
  },
  {
   "cell_type": "markdown",
   "metadata": {},
   "source": [
    "### Analyzing Feature Importances"
   ]
  },
  {
   "cell_type": "code",
   "execution_count": 161,
   "metadata": {},
   "outputs": [
    {
     "data": {
      "text/plain": [
       "[0, 1, 2, 4, 7, 11, 15, 26]"
      ]
     },
     "execution_count": 161,
     "metadata": {},
     "output_type": "execute_result"
    },
    {
     "data": {
      "image/png": "[encoded data removed]",
      "text/plain": [
       "<Figure size 640x480 with 1 Axes>"
      ]
     },
     "metadata": {},
     "output_type": "display_data"
    }
   ],
   "source": [
    "feat_rank = classifier.feature_importances_\n",
    "sns.barplot(x = [i+1 for i in range(len(feat_rank))], y = feat_rank)\n",
    "\n",
    "useful = [i for i,x in enumerate(feat_rank) if x>0.02]\n",
    "useful"
   ]
  },
  {
   "cell_type": "markdown",
   "metadata": {},
   "source": [
    "### Retraining with Most Important Features"
   ]
  },
  {
   "cell_type": "markdown",
   "metadata": {},
   "source": [
    "#### Selecting the Features"
   ]
  },
  {
   "cell_type": "code",
   "execution_count": 162,
   "metadata": {},
   "outputs": [
    {
     "data": {
      "text/html": [
       "<div>\n",
       "<style scoped>\n",
       "    .dataframe tbody tr th:only-of-type {\n",
       "        vertical-align: middle;\n",
       "    }\n",
       "\n",
       "    .dataframe tbody tr th {\n",
       "        vertical-align: top;\n",
       "    }\n",
       "\n",
       "    .dataframe thead th {\n",
       "        text-align: right;\n",
       "    }\n",
       "</style>\n",
       "<table border=\"1\" class=\"dataframe\">\n",
       "  <thead>\n",
       "    <tr style=\"text-align: right;\">\n",
       "      <th></th>\n",
       "      <th>age</th>\n",
       "      <th>blood pressure</th>\n",
       "      <th>cholesterol</th>\n",
       "      <th>plasma glucose</th>\n",
       "      <th>bmi</th>\n",
       "      <th>chest pain type_0</th>\n",
       "      <th>chest pain type_4</th>\n",
       "      <th>smoking_status_never smoked</th>\n",
       "    </tr>\n",
       "  </thead>\n",
       "  <tbody>\n",
       "    <tr>\n",
       "      <th>0</th>\n",
       "      <td>40.0</td>\n",
       "      <td>140.0</td>\n",
       "      <td>294.0</td>\n",
       "      <td>110.0</td>\n",
       "      <td>22.0</td>\n",
       "      <td>0</td>\n",
       "      <td>0</td>\n",
       "      <td>1</td>\n",
       "    </tr>\n",
       "    <tr>\n",
       "      <th>1</th>\n",
       "      <td>49.0</td>\n",
       "      <td>160.0</td>\n",
       "      <td>180.0</td>\n",
       "      <td>107.0</td>\n",
       "      <td>18.0</td>\n",
       "      <td>0</td>\n",
       "      <td>0</td>\n",
       "      <td>1</td>\n",
       "    </tr>\n",
       "    <tr>\n",
       "      <th>2</th>\n",
       "      <td>37.0</td>\n",
       "      <td>130.0</td>\n",
       "      <td>294.0</td>\n",
       "      <td>95.0</td>\n",
       "      <td>18.0</td>\n",
       "      <td>0</td>\n",
       "      <td>0</td>\n",
       "      <td>1</td>\n",
       "    </tr>\n",
       "    <tr>\n",
       "      <th>3</th>\n",
       "      <td>48.0</td>\n",
       "      <td>138.0</td>\n",
       "      <td>214.0</td>\n",
       "      <td>114.0</td>\n",
       "      <td>21.0</td>\n",
       "      <td>0</td>\n",
       "      <td>1</td>\n",
       "      <td>1</td>\n",
       "    </tr>\n",
       "    <tr>\n",
       "      <th>4</th>\n",
       "      <td>54.0</td>\n",
       "      <td>150.0</td>\n",
       "      <td>195.0</td>\n",
       "      <td>86.0</td>\n",
       "      <td>18.0</td>\n",
       "      <td>0</td>\n",
       "      <td>0</td>\n",
       "      <td>1</td>\n",
       "    </tr>\n",
       "  </tbody>\n",
       "</table>\n",
       "</div>"
      ],
      "text/plain": [
       "    age  blood pressure  cholesterol  plasma glucose   bmi  chest pain type_0  \\\n",
       "0  40.0           140.0        294.0           110.0  22.0                  0   \n",
       "1  49.0           160.0        180.0           107.0  18.0                  0   \n",
       "2  37.0           130.0        294.0            95.0  18.0                  0   \n",
       "3  48.0           138.0        214.0           114.0  21.0                  0   \n",
       "4  54.0           150.0        195.0            86.0  18.0                  0   \n",
       "\n",
       "   chest pain type_4  smoking_status_never smoked  \n",
       "0                  0                            1  \n",
       "1                  0                            1  \n",
       "2                  0                            1  \n",
       "3                  1                            1  \n",
       "4                  0                            1  "
      ]
     },
     "execution_count": 162,
     "metadata": {},
     "output_type": "execute_result"
    }
   ],
   "source": [
    "df = data.copy()\n",
    "y = df.pop('triage')\n",
    "X = pd.get_dummies(df)\n",
    "\n",
    "X = X.iloc[:,useful]\n",
    "X.head()"
   ]
  },
  {
   "cell_type": "markdown",
   "metadata": {},
   "source": [
    "#### Balancing the Samples"
   ]
  },
  {
   "cell_type": "code",
   "execution_count": 163,
   "metadata": {},
   "outputs": [],
   "source": [
    "val_X = X.copy()\n",
    "val_Y = y.copy()\n",
    "\n",
    "oversample = SMOTE()\n",
    "X, y = oversample.fit_resample(X,y)\n",
    "\n"
   ]
  },
  {
   "cell_type": "markdown",
   "metadata": {},
   "source": [
    "#### Creating Test-Train-Validation Split"
   ]
  },
  {
   "cell_type": "code",
   "execution_count": 164,
   "metadata": {},
   "outputs": [],
   "source": [
    "\n",
    "X_train, X_test, y_train, y_test = train_test_split(X,y, test_size=0.1, random_state=0)\n",
    "\n",
    "_, x_val, _, y_val = train_test_split(val_X, val_Y, test_size=len(val_Y)-1, random_state=0)\n",
    "\n"
   ]
  },
  {
   "cell_type": "markdown",
   "metadata": {},
   "source": [
    "#### Scaling the Data"
   ]
  },
  {
   "cell_type": "code",
   "execution_count": 165,
   "metadata": {},
   "outputs": [],
   "source": [
    "\n",
    "sc = StandardScaler()\n",
    "X_train = sc.fit_transform(X_train)\n",
    "X_test = sc.transform(X_test)\n",
    "x_val = sc.transform(x_val)\n",
    "\n"
   ]
  },
  {
   "cell_type": "markdown",
   "metadata": {},
   "source": [
    "#### Training A Random Forest Classifier"
   ]
  },
  {
   "cell_type": "code",
   "execution_count": 166,
   "metadata": {},
   "outputs": [],
   "source": [
    "\n",
    "classifier = RandomForestClassifier(n_estimators=100, random_state=0)\n",
    "classifier.fit(X_train, y_train)\n",
    "y_pred = classifier.predict(x_val)\n",
    "\n"
   ]
  },
  {
   "cell_type": "markdown",
   "metadata": {},
   "source": [
    "#### Evaluating Classifier Performance "
   ]
  },
  {
   "cell_type": "code",
   "execution_count": 167,
   "metadata": {},
   "outputs": [
    {
     "name": "stdout",
     "output_type": "stream",
     "text": [
      "[[ 422    0    0    0    0]\n",
      " [   0  439    0    0    0]\n",
      " [   0    0  339    0    0]\n",
      " [   0    0    0  129    0]\n",
      " [   2    0    6    0 5623]]\n",
      "              precision    recall  f1-score   support\n",
      "\n",
      "        blue       1.00      1.00      1.00       422\n",
      "       green       1.00      1.00      1.00       439\n",
      "      orange       0.98      1.00      0.99       339\n",
      "         red       1.00      1.00      1.00       129\n",
      "      yellow       1.00      1.00      1.00      5631\n",
      "\n",
      "    accuracy                           1.00      6960\n",
      "   macro avg       1.00      1.00      1.00      6960\n",
      "weighted avg       1.00      1.00      1.00      6960\n",
      "\n",
      "0.9988505747126437\n"
     ]
    }
   ],
   "source": [
    "\n",
    "print(confusion_matrix(y_val,y_pred))\n",
    "print(classification_report(y_val,y_pred))\n",
    "print(accuracy_score(y_val, y_pred))"
   ]
  }
 ],
 "metadata": {
  "kernelspec": {
   "display_name": "Python 3.10.8 64-bit (microsoft store)",
   "language": "python",
   "name": "python3"
  },
  "language_info": {
   "codemirror_mode": {
    "name": "ipython",
    "version": 3
   },
   "file_extension": ".py",
   "mimetype": "text/x-python",
   "name": "python",
   "nbconvert_exporter": "python",
   "pygments_lexer": "ipython3",
   "version": "3.10.8"
  },
  "orig_nbformat": 4,
  "vscode": {
   "interpreter": {
    "hash": "31e60d986000a4d68921bb0b57abbeca0a2f0792130070158638bffc9bda81fd"
   }
  }
 },
 "nbformat": 4,
 "nbformat_minor": 2
}
